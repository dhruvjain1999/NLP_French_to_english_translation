{
  "nbformat": 4,
  "nbformat_minor": 0,
  "metadata": {
    "colab": {
      "provenance": [],
      "machine_shape": "hm",
      "include_colab_link": true
    },
    "kernelspec": {
      "name": "python3",
      "display_name": "Python 3"
    },
    "language_info": {
      "name": "python"
    },
    "gpuClass": "standard",
    "accelerator": "GPU"
  },
  "cells": [
    {
      "cell_type": "markdown",
      "metadata": {
        "id": "view-in-github",
        "colab_type": "text"
      },
      "source": [
        "<a href=\"https://colab.research.google.com/github/Sunday-Okey/Adventure_game/blob/master/NLP_Final_Project.ipynb\" target=\"_parent\"><img src=\"https://colab.research.google.com/assets/colab-badge.svg\" alt=\"Open In Colab\"/></a>"
      ]
    },
    {
      "cell_type": "code",
      "source": [
        "# import the libraries\n",
        "import collections\n",
        "import re\n",
        "import numpy as np\n",
        "from keras import optimizers\n",
        "\n",
        "from keras.preprocessing.text import Tokenizer\n",
        "# from keras_preprocessing.sequence import pad_sequences\n",
        "from keras.models import Model, Sequential\n",
        "from keras.layers import LSTM, GRU, Input, Dense, TimeDistributed, Activation, RepeatVector, Bidirectional, Dropout\n",
        "from tensorflow.keras.layers import Embedding\n",
        "from nltk.translate.bleu_score import corpus_bleu\n",
        "from keras.optimizers import Adam\n",
        "from keras.losses import sparse_categorical_crossentropy\n",
        "from keras.models import load_model\n",
        "import os\n",
        "import string\n",
        "import requests\n",
        "from keras.utils import pad_sequences\n",
        "import unicodedata\n",
        "from keras.callbacks import ModelCheckpoint\n",
        "import regex"
      ],
      "metadata": {
        "id": "CaUagM43ir9X"
      },
      "execution_count": 2,
      "outputs": []
    },
    {
      "cell_type": "code",
      "source": [
        "import os\n",
        "\n",
        "# Set your working directory to a folder in your Google Drive. This way, if your notebook times out,\n",
        "# your files will be saved in your Google Drive!\n",
        "\n",
        "# the base Google Drive directory\n",
        "root_dir = \"/content/drive/My Drive/\"\n",
        "\n",
        "# choose where you want your project files to be saved\n",
        "project_folder = \"Colab Notebooks/NLP_Final_Project/\"\n",
        "\n",
        "def create_and_set_working_directory(project_folder):\n",
        "  # check if your project folder exists. if not, it will be created.\n",
        "  if os.path.isdir(root_dir + project_folder) == False:\n",
        "    os.mkdir(root_dir + project_folder)\n",
        "    print(root_dir + project_folder + ' did not exist but was created.')\n",
        "\n",
        "  # change the OS to use your project folder as the working directory\n",
        "  os.chdir(root_dir + project_folder)\n",
        "\n",
        "  # create a test file to make sure it shows up in the right place\n",
        "  !touch 'new_file_in_working_directory.txt'\n",
        "  print('\\nYour working directory was changed to ' + root_dir + project_folder + \\\n",
        "        \"\\n\\nAn empty text file was created there. You can also run !pwd to confirm the current working directory.\" )\n",
        "\n",
        "create_and_set_working_directory(project_folder)\n"
      ],
      "metadata": {
        "colab": {
          "base_uri": "https://localhost:8080/"
        },
        "id": "0Zocpw3trlUJ",
        "outputId": "3f3c9829-eaae-4d6d-ea37-dcba95bfe38f"
      },
      "execution_count": 3,
      "outputs": [
        {
          "output_type": "stream",
          "name": "stdout",
          "text": [
            "\n",
            "Your working directory was changed to /content/drive/My Drive/Colab Notebooks/NLP_Final_Project/\n",
            "\n",
            "An empty text file was created there. You can also run !pwd to confirm the current working directory.\n"
          ]
        }
      ]
    },
    {
      "cell_type": "code",
      "source": [
        "from google.colab import drive\n",
        "drive.mount('/content/drive')"
      ],
      "metadata": {
        "id": "_t9oZukDiJsU",
        "colab": {
          "base_uri": "https://localhost:8080/"
        },
        "outputId": "21006fe3-4217-4454-a511-f6e7a6d0753c"
      },
      "execution_count": 1,
      "outputs": [
        {
          "output_type": "stream",
          "name": "stdout",
          "text": [
            "Mounted at /content/drive\n"
          ]
        }
      ]
    },
    {
      "cell_type": "markdown",
      "source": [
        "### Extract the file"
      ],
      "metadata": {
        "id": "JRJAGqIdPZik"
      }
    },
    {
      "cell_type": "code",
      "source": [
        "# function to read raw text file\n",
        "def read_text(filename):\n",
        "    # open the file\n",
        "    file = open(filename, mode='rt', encoding='utf-8')\n",
        "    # read all text\n",
        "    text = file.read()\n",
        "    file.close()\n",
        "    return text\n"
      ],
      "metadata": {
        "id": "jOwIMMfiPYSO"
      },
      "execution_count": 10,
      "outputs": []
    },
    {
      "cell_type": "code",
      "source": [
        "# split a text into sentences\n",
        "def to_lines(text):\n",
        "    sents = text.strip().split('\\n')\n",
        "    sents = [i.split('\\t')[:-1] for i in sents]\n",
        "    return sents"
      ],
      "metadata": {
        "id": "PMOTUb-a8Wow"
      },
      "execution_count": 11,
      "outputs": []
    },
    {
      "cell_type": "code",
      "source": [
        "pwd"
      ],
      "metadata": {
        "id": "OdmX-IcCrdLM",
        "colab": {
          "base_uri": "https://localhost:8080/",
          "height": 35
        },
        "outputId": "b73f90e4-6ce9-4cc6-b02e-c4f04647fdab"
      },
      "execution_count": 12,
      "outputs": [
        {
          "output_type": "execute_result",
          "data": {
            "text/plain": [
              "'/content/drive/My Drive/Colab Notebooks/NLP_Final_Project'"
            ],
            "application/vnd.google.colaboratory.intrinsic+json": {
              "type": "string"
            }
          },
          "metadata": {},
          "execution_count": 12
        }
      ]
    },
    {
      "cell_type": "code",
      "source": [
        "data = read_text(\"fra.txt\")\n",
        "frn_eng = to_lines(data)\n",
        "# frn_eng[:210000][-3]\n",
        "# len(frn_eng)"
      ],
      "metadata": {
        "id": "_pHWw7Qn8c82"
      },
      "execution_count": 13,
      "outputs": []
    },
    {
      "cell_type": "code",
      "source": [
        "ascii_string = regex.sub(r'[^\\x00-\\x7f]', r'', \"«\\xa0Je pense qu'on ne devrait pas faire ça.\\xa0» «\\xa0Personne ne vous a demandé votre avis.\\xa0»\")\n",
        "ascii_string"
      ],
      "metadata": {
        "colab": {
          "base_uri": "https://localhost:8080/",
          "height": 35
        },
        "id": "O38mPaatAV4t",
        "outputId": "b221f2a3-70b2-43f1-bb61-52ab88de7da9"
      },
      "execution_count": 14,
      "outputs": [
        {
          "output_type": "execute_result",
          "data": {
            "text/plain": [
              "\"Je pense qu'on ne devrait pas faire a. Personne ne vous a demand votre avis.\""
            ],
            "application/vnd.google.colaboratory.intrinsic+json": {
              "type": "string"
            }
          },
          "metadata": {},
          "execution_count": 14
        }
      ]
    },
    {
      "cell_type": "code",
      "source": [
        "unicodedata.normalize(\"NFKD\", 'Cours\\u202f!')"
      ],
      "metadata": {
        "id": "fNr70hBS-4LS",
        "colab": {
          "base_uri": "https://localhost:8080/",
          "height": 35
        },
        "outputId": "069bd3e6-fad2-41da-9d63-fa1b955b64cf"
      },
      "execution_count": 15,
      "outputs": [
        {
          "output_type": "execute_result",
          "data": {
            "text/plain": [
              "'Cours !'"
            ],
            "application/vnd.google.colaboratory.intrinsic+json": {
              "type": "string"
            }
          },
          "metadata": {},
          "execution_count": 15
        }
      ]
    },
    {
      "cell_type": "code",
      "source": [
        "frn_eng = frn_eng[:210000]\n",
        "len(frn_eng)"
      ],
      "metadata": {
        "colab": {
          "base_uri": "https://localhost:8080/"
        },
        "id": "hKnK4Miu8fgy",
        "outputId": "ae5f6178-da10-46f8-9321-382edd847dd2"
      },
      "execution_count": 16,
      "outputs": [
        {
          "output_type": "execute_result",
          "data": {
            "text/plain": [
              "210000"
            ]
          },
          "metadata": {},
          "execution_count": 16
        }
      ]
    },
    {
      "cell_type": "markdown",
      "source": [
        "Lets read in the data"
      ],
      "metadata": {
        "id": "NRZDcc7-TZ2_"
      }
    },
    {
      "cell_type": "code",
      "source": [
        "# Open a file in append mode\n",
        "with open('small_vocab_en', 'a') as file1, open('small_vocab_fr', 'a') as file2:\n",
        "  for i in range(len(frn_eng)):\n",
        "      file1.write(frn_eng[i][0] + '\\n')\n",
        "      file2.write(frn_eng[i][1] + '\\n')\n"
      ],
      "metadata": {
        "id": "EQctq5HoLbCy"
      },
      "execution_count": 17,
      "outputs": []
    },
    {
      "cell_type": "code",
      "source": [
        "def load_data(path):\n",
        "    \"\"\"\n",
        "    Load dataset\n",
        "    \"\"\"\n",
        "    input_file = os.path.join(path)\n",
        "    with open(input_file, \"r\", encoding='utf-8') as f:\n",
        "        data = f.read()\n",
        "\n",
        "    return data.split('\\n')"
      ],
      "metadata": {
        "id": "9c87CajiByAN"
      },
      "execution_count": 18,
      "outputs": []
    },
    {
      "cell_type": "code",
      "source": [
        "# Load English data\n",
        "english_sentences = load_data('small_vocab_en')\n",
        "# Load French data\n",
        "french_sentences = load_data('small_vocab_fr')"
      ],
      "metadata": {
        "id": "vWb6XrKOB1mu"
      },
      "execution_count": 19,
      "outputs": []
    },
    {
      "cell_type": "code",
      "source": [
        "len(english_sentences)"
      ],
      "metadata": {
        "colab": {
          "base_uri": "https://localhost:8080/"
        },
        "id": "_ILL8eOGB6Ao",
        "outputId": "2a758d79-ee24-45dd-bdd9-2a4de17f376e"
      },
      "execution_count": 20,
      "outputs": [
        {
          "output_type": "execute_result",
          "data": {
            "text/plain": [
              "347861"
            ]
          },
          "metadata": {},
          "execution_count": 20
        }
      ]
    },
    {
      "cell_type": "code",
      "source": [
        "len(french_sentences)"
      ],
      "metadata": {
        "colab": {
          "base_uri": "https://localhost:8080/"
        },
        "id": "PEMfOm3nB_du",
        "outputId": "61309771-52d7-4930-cd83-cebd239fdb52"
      },
      "execution_count": 21,
      "outputs": [
        {
          "output_type": "execute_result",
          "data": {
            "text/plain": [
              "347861"
            ]
          },
          "metadata": {},
          "execution_count": 21
        }
      ]
    },
    {
      "cell_type": "code",
      "source": [
        "# Remove punctuation\n",
        "english_sentences = [s.translate(str.maketrans('', '', string.punctuation)) for s in english_sentences]\n",
        "french_sentences = [s.translate(str.maketrans('', '', string.punctuation)) for s in french_sentences]"
      ],
      "metadata": {
        "id": "m4ilxzddbem8"
      },
      "execution_count": 22,
      "outputs": []
    },
    {
      "cell_type": "code",
      "source": [
        "# convert to lowercase\n",
        "for i in range(len(english_sentences)):\n",
        "    english_sentences[i] = english_sentences[i].lower()\n",
        "    \n",
        "    french_sentences[i] = french_sentences[i].lower()\n",
        "\n",
        "    english_sentences[i] = regex.sub(r'[^\\x00-\\x7f]', r'', english_sentences[i])\n",
        "    french_sentences[i] = regex.sub(r'[^\\x00-\\x7f]', r'', french_sentences[i])"
      ],
      "metadata": {
        "id": "rC4LOVW0bpb0"
      },
      "execution_count": 23,
      "outputs": []
    },
    {
      "cell_type": "code",
      "source": [
        "# empty lists\n",
        "eng_l = []\n",
        "frn_l = []\n",
        "\n",
        "# populate the lists with sentence lengths\n",
        "for i in english_sentences:\n",
        "    eng_l.append(len(i))\n",
        "\n",
        "for i in french_sentences:\n",
        "    frn_l.append(len(i))"
      ],
      "metadata": {
        "id": "EY0niVbun5Lo"
      },
      "execution_count": 24,
      "outputs": []
    },
    {
      "cell_type": "code",
      "source": [
        "max(eng_l)"
      ],
      "metadata": {
        "colab": {
          "base_uri": "https://localhost:8080/"
        },
        "id": "t8l0Bayepu_F",
        "outputId": "556cdab8-0170-4581-ad02-1a9ee1b14608"
      },
      "execution_count": 25,
      "outputs": [
        {
          "output_type": "execute_result",
          "data": {
            "text/plain": [
              "100"
            ]
          },
          "metadata": {},
          "execution_count": 25
        }
      ]
    },
    {
      "cell_type": "code",
      "source": [
        "max(frn_l)"
      ],
      "metadata": {
        "colab": {
          "base_uri": "https://localhost:8080/"
        },
        "id": "IKKimbYspwsy",
        "outputId": "9ce6398b-7cf5-4760-967d-a10910fd70d9"
      },
      "execution_count": 26,
      "outputs": [
        {
          "output_type": "execute_result",
          "data": {
            "text/plain": [
              "111"
            ]
          },
          "metadata": {},
          "execution_count": 26
        }
      ]
    },
    {
      "cell_type": "code",
      "source": [
        "import pandas as pd\n",
        "length_df = pd.DataFrame({'eng':eng_l, 'frn':frn_l})"
      ],
      "metadata": {
        "id": "35h08wbVp52l"
      },
      "execution_count": 27,
      "outputs": []
    },
    {
      "cell_type": "code",
      "source": [
        "import matplotlib.pyplot as plt\n",
        "length_df.hist(bins = 30)\n",
        "plt.show()"
      ],
      "metadata": {
        "colab": {
          "base_uri": "https://localhost:8080/",
          "height": 452
        },
        "id": "gI3B621FxENN",
        "outputId": "fe0d26cf-fcfa-4e0b-869e-5d36a9bfdaf5"
      },
      "execution_count": 28,
      "outputs": [
        {
          "output_type": "display_data",
          "data": {
            "text/plain": [
              "<Figure size 640x480 with 2 Axes>"
            ],
            "image/png": "[encoded data removed]"
          },
          "metadata": {}
        }
      ]
    },
    {
      "cell_type": "code",
      "source": [
        "print(max(eng_l), max(frn_l))"
      ],
      "metadata": {
        "colab": {
          "base_uri": "https://localhost:8080/"
        },
        "id": "2e5RwcBoxKSV",
        "outputId": "3c43c23f-289c-4b37-8e75-2805063de79d"
      },
      "execution_count": 29,
      "outputs": [
        {
          "output_type": "stream",
          "name": "stdout",
          "text": [
            "100 111\n"
          ]
        }
      ]
    },
    {
      "cell_type": "code",
      "source": [
        "# function to build a tokenizer\n",
        "def tokenization(lines):\n",
        "    tokenizer = Tokenizer()\n",
        "    tokenizer.fit_on_texts(lines)\n",
        "    return tokenizer"
      ],
      "metadata": {
        "id": "vWnkr4l5xYPw"
      },
      "execution_count": 30,
      "outputs": []
    },
    {
      "cell_type": "code",
      "source": [
        "# prepare english tokenizer\n",
        "eng_tokenizer = tokenization(english_sentences)\n",
        "eng_vocab_size = len(eng_tokenizer.word_index) + 1\n",
        "\n",
        "eng_length = 100\n",
        "print('English Vocabulary Size: %d' % eng_vocab_size)"
      ],
      "metadata": {
        "colab": {
          "base_uri": "https://localhost:8080/"
        },
        "id": "Gs4ACycAxdID",
        "outputId": "f0fa7b93-275d-4356-e7c2-200c9831a53b"
      },
      "execution_count": 31,
      "outputs": [
        {
          "output_type": "stream",
          "name": "stdout",
          "text": [
            "English Vocabulary Size: 15251\n"
          ]
        }
      ]
    },
    {
      "cell_type": "code",
      "source": [
        "# prepare French tokenizer\n",
        "frn_tokenizer = tokenization(french_sentences)\n",
        "frn_vocab_size = len(frn_tokenizer.word_index) + 1\n",
        "\n",
        "frn_length = 111\n",
        "print('French Vocabulary Size: %d' % frn_vocab_size)"
      ],
      "metadata": {
        "colab": {
          "base_uri": "https://localhost:8080/"
        },
        "id": "D4tyGkYCyUpO",
        "outputId": "819dff62-4bdc-4235-9ae3-a1e2a7d49fd3"
      },
      "execution_count": 32,
      "outputs": [
        {
          "output_type": "stream",
          "name": "stdout",
          "text": [
            "French Vocabulary Size: 29519\n"
          ]
        }
      ]
    },
    {
      "cell_type": "code",
      "source": [
        "#encode and pad sequences\n",
        "def encode_sequences(tokenizer, length, lines):\n",
        "    # integer encode sequences\n",
        "    seq = tokenizer.texts_to_sequences(lines)\n",
        "    # pad sequences with 0 values\n",
        "    seq = pad_sequences(seq, maxlen=length, padding='post')\n",
        "    return seq"
      ],
      "metadata": {
        "id": "xhnYBmoByeHt"
      },
      "execution_count": 33,
      "outputs": []
    },
    {
      "cell_type": "code",
      "source": [
        "from sklearn.model_selection import train_test_split\n",
        "frn_train, frn_test1, eng_train, eng_test1 = train_test_split(french_sentences,english_sentences, test_size=0.01, random_state = 12)\n"
      ],
      "metadata": {
        "id": "xknp1K38y-jC"
      },
      "execution_count": 34,
      "outputs": []
    },
    {
      "cell_type": "markdown",
      "source": [],
      "metadata": {
        "id": "oHQ9TvNy0xgK"
      }
    },
    {
      "cell_type": "code",
      "source": [
        "len(frn_train)"
      ],
      "metadata": {
        "colab": {
          "base_uri": "https://localhost:8080/"
        },
        "id": "36uzx10uzjIm",
        "outputId": "e44622ae-e36a-47ce-e4b2-6b3f9486c505"
      },
      "execution_count": 35,
      "outputs": [
        {
          "output_type": "execute_result",
          "data": {
            "text/plain": [
              "344382"
            ]
          },
          "metadata": {},
          "execution_count": 35
        }
      ]
    },
    {
      "cell_type": "code",
      "source": [
        "len(frn_test1)"
      ],
      "metadata": {
        "colab": {
          "base_uri": "https://localhost:8080/"
        },
        "id": "u9T8EsPI0OFv",
        "outputId": "dbfcfc16-1759-40ee-d83f-07ff4e42130b"
      },
      "execution_count": 36,
      "outputs": [
        {
          "output_type": "execute_result",
          "data": {
            "text/plain": [
              "3479"
            ]
          },
          "metadata": {},
          "execution_count": 36
        }
      ]
    },
    {
      "cell_type": "code",
      "source": [
        "len(eng_train)"
      ],
      "metadata": {
        "colab": {
          "base_uri": "https://localhost:8080/"
        },
        "id": "O05QQaln0PGj",
        "outputId": "f2fbd5e1-a39a-4b82-feb9-7c0d629d3c8f"
      },
      "execution_count": 37,
      "outputs": [
        {
          "output_type": "execute_result",
          "data": {
            "text/plain": [
              "344382"
            ]
          },
          "metadata": {},
          "execution_count": 37
        }
      ]
    },
    {
      "cell_type": "code",
      "source": [
        "len(eng_test1)"
      ],
      "metadata": {
        "colab": {
          "base_uri": "https://localhost:8080/"
        },
        "id": "-eOgGvtJ0iZ3",
        "outputId": "898aebdd-6106-4df8-90b8-56d94463e302"
      },
      "execution_count": 38,
      "outputs": [
        {
          "output_type": "execute_result",
          "data": {
            "text/plain": [
              "3479"
            ]
          },
          "metadata": {},
          "execution_count": 38
        }
      ]
    },
    {
      "cell_type": "code",
      "source": [
        "# prepare training data\n",
        "frn_train = encode_sequences(frn_tokenizer, frn_length, frn_train)\n",
        "eng_train = encode_sequences(eng_tokenizer, eng_length, eng_train)"
      ],
      "metadata": {
        "id": "xoQgAbHU0mZR"
      },
      "execution_count": 39,
      "outputs": []
    },
    {
      "cell_type": "code",
      "source": [
        "# prepare validation data\n",
        "frn_test = encode_sequences(frn_tokenizer, frn_length, frn_test1)\n",
        "eng_test = encode_sequences(eng_tokenizer, eng_length, eng_test1)"
      ],
      "metadata": {
        "id": "MWgwlfBI1vYw"
      },
      "execution_count": 40,
      "outputs": []
    },
    {
      "cell_type": "code",
      "source": [
        "\n",
        "def build_model(in_vocab, out_vocab, in_timesteps, out_timesteps, units):\n",
        "    model = Sequential()\n",
        "    model.add(Embedding(in_vocab, units, input_length=in_timesteps, mask_zero=True))\n",
        "    model.add(Bidirectional(LSTM(units, return_sequences=True)))\n",
        "    model.add(Dropout(0.2))\n",
        "    model.add(Bidirectional(LSTM(units)))\n",
        "    model.add(RepeatVector(out_timesteps))\n",
        "    model.add(Bidirectional(LSTM(units, return_sequences=True)))\n",
        "    model.add(Dropout(0.2))\n",
        "    model.add(Dense(out_vocab, activation='softmax'))\n",
        "\n",
        "    return model"
      ],
      "metadata": {
        "id": "-_hk4pU-2Mo9"
      },
      "execution_count": 41,
      "outputs": []
    },
    {
      "cell_type": "code",
      "source": [
        "model = build_model(frn_vocab_size, eng_vocab_size, frn_length, eng_length, 512)\n",
        "rms = optimizers.RMSprop(learning_rate=0.001)\n",
        "model.compile(optimizer=rms, loss='sparse_categorical_crossentropy')"
      ],
      "metadata": {
        "id": "mOrTjWch2Qat"
      },
      "execution_count": 42,
      "outputs": []
    },
    {
      "cell_type": "code",
      "source": [
        "model.summary()"
      ],
      "metadata": {
        "colab": {
          "base_uri": "https://localhost:8080/"
        },
        "id": "IC2XACsx2VW9",
        "outputId": "e2540a85-9539-4bdc-ecef-3bff384f5c60"
      },
      "execution_count": 43,
      "outputs": [
        {
          "output_type": "stream",
          "name": "stdout",
          "text": [
            "Model: \"sequential\"\n",
            "_________________________________________________________________\n",
            " Layer (type)                Output Shape              Param #   \n",
            "=================================================================\n",
            " embedding (Embedding)       (None, 111, 512)          15113728  \n",
            "                                                                 \n",
            " bidirectional (Bidirectiona  (None, 111, 1024)        4198400   \n",
            " l)                                                              \n",
            "                                                                 \n",
            " dropout (Dropout)           (None, 111, 1024)         0         \n",
            "                                                                 \n",
            " bidirectional_1 (Bidirectio  (None, 1024)             6295552   \n",
            " nal)                                                            \n",
            "                                                                 \n",
            " repeat_vector (RepeatVector  (None, 100, 1024)        0         \n",
            " )                                                               \n",
            "                                                                 \n",
            " bidirectional_2 (Bidirectio  (None, 100, 1024)        6295552   \n",
            " nal)                                                            \n",
            "                                                                 \n",
            " dropout_1 (Dropout)         (None, 100, 1024)         0         \n",
            "                                                                 \n",
            " dense (Dense)               (None, 100, 15251)        15632275  \n",
            "                                                                 \n",
            "=================================================================\n",
            "Total params: 47,535,507\n",
            "Trainable params: 47,535,507\n",
            "Non-trainable params: 0\n",
            "_________________________________________________________________\n"
          ]
        }
      ]
    },
    {
      "cell_type": "code",
      "source": [
        "frn_train.shape"
      ],
      "metadata": {
        "colab": {
          "base_uri": "https://localhost:8080/"
        },
        "id": "abOljyBs2q3S",
        "outputId": "809ff03c-0231-4cc4-9845-049b677a370d"
      },
      "execution_count": 44,
      "outputs": [
        {
          "output_type": "execute_result",
          "data": {
            "text/plain": [
              "(344382, 111)"
            ]
          },
          "metadata": {},
          "execution_count": 44
        }
      ]
    },
    {
      "cell_type": "code",
      "source": [
        "pwd"
      ],
      "metadata": {
        "id": "vTbrqiqrkZkt",
        "outputId": "3f7eeaba-96ea-4fdc-8197-7382c9b53292",
        "colab": {
          "base_uri": "https://localhost:8080/",
          "height": 35
        }
      },
      "execution_count": 45,
      "outputs": [
        {
          "output_type": "execute_result",
          "data": {
            "text/plain": [
              "'/content/drive/MyDrive/Colab Notebooks/NLP_Final_Project'"
            ],
            "application/vnd.google.colaboratory.intrinsic+json": {
              "type": "string"
            }
          },
          "metadata": {},
          "execution_count": 45
        }
      ]
    },
    {
      "cell_type": "code",
      "source": [
        "eng_train.shape"
      ],
      "metadata": {
        "colab": {
          "base_uri": "https://localhost:8080/"
        },
        "id": "JF55TTbg2zff",
        "outputId": "77f086f4-5cb4-4a5a-e165-4cdb8430bd93"
      },
      "execution_count": 46,
      "outputs": [
        {
          "output_type": "execute_result",
          "data": {
            "text/plain": [
              "(344382, 100)"
            ]
          },
          "metadata": {},
          "execution_count": 46
        }
      ]
    },
    {
      "cell_type": "code",
      "source": [
        "# filename = 'model.h1.24_jan_18'\n",
        "# checkpoint = ModelCheckpoint(filename, monitor='val_loss', verbose=1, save_best_only=True, mode='min')\n",
        "\n",
        "# history = model.fit(frn_train, eng_train.reshape(eng_train.shape[0], eng_train.shape[1], 1),epochs=30, batch_size=512, validation_split = 0.2,callbacks=[checkpoint], verbose=1)"
      ],
      "metadata": {
        "id": "e1cdkfDO26fD"
      },
      "execution_count": 64,
      "outputs": []
    },
    {
      "cell_type": "code",
      "source": [
        "model = load_model(\"model.h1.24_jan_19\")"
      ],
      "metadata": {
        "id": "cQwwjGqSn8pB"
      },
      "execution_count": 65,
      "outputs": []
    },
    {
      "cell_type": "code",
      "source": [
        "plt.plot(history.history['loss'])\n",
        "plt.plot(history.history['val_loss'])\n",
        "plt.legend(['train','validation'])\n",
        "plt.show()"
      ],
      "metadata": {
        "id": "7UWninkNud1B"
      },
      "execution_count": null,
      "outputs": []
    },
    {
      "cell_type": "code",
      "source": [
        "# preds = model.predict(frn_test.reshape((frn_test.shape[0],frn_test.shape[1])))"
      ],
      "metadata": {
        "id": "tGajn6mmsRnX"
      },
      "execution_count": null,
      "outputs": []
    },
    {
      "cell_type": "code",
      "source": [
        "import numpy as np\n",
        "\n",
        "def logits_to_text(logits, tokenizer):\n",
        "    \"\"\"\n",
        "    Turn logits from a neural network into text using the tokenizer\n",
        "    :param logits: Logits from a neural network\n",
        "    :param tokenizer: Keras Tokenizer fit on the labels\n",
        "    :return: String that represents the text of the logits\n",
        "    \"\"\"\n",
        "    index_to_words = {id: word for word, id in tokenizer.word_index.items()}\n",
        "    index_to_words[0] = '<PAD>'\n",
        "\n",
        "    return ' '.join([index_to_words[prediction] for prediction in np.argmax(logits, 1)])\n",
        "\n",
        "print('`logits_to_text` function loaded.')"
      ],
      "metadata": {
        "id": "kzrJ0ljTurGU",
        "colab": {
          "base_uri": "https://localhost:8080/"
        },
        "outputId": "64da70d6-9d37-40a0-a4bc-bbf08616b089"
      },
      "execution_count": 66,
      "outputs": [
        {
          "output_type": "stream",
          "name": "stdout",
          "text": [
            "`logits_to_text` function loaded.\n"
          ]
        }
      ]
    },
    {
      "cell_type": "code",
      "source": [
        "test_x = frn_test.reshape((frn_test.shape[0],frn_test.shape[1]))\n",
        "test_x[:4][1]"
      ],
      "metadata": {
        "id": "0W5ZVzkxvAp8",
        "colab": {
          "base_uri": "https://localhost:8080/"
        },
        "outputId": "a54b21c1-9033-4e4e-9b55-ea8a9fa8dd95"
      },
      "execution_count": 67,
      "outputs": [
        {
          "output_type": "execute_result",
          "data": {
            "text/plain": [
              "array([  21,  213,    9,    5,  472,    9,   19,   13,  144, 2678,    0,\n",
              "          0,    0,    0,    0,    0,    0,    0,    0,    0,    0,    0,\n",
              "          0,    0,    0,    0,    0,    0,    0,    0,    0,    0,    0,\n",
              "          0,    0,    0,    0,    0,    0,    0,    0,    0,    0,    0,\n",
              "          0,    0,    0,    0,    0,    0,    0,    0,    0,    0,    0,\n",
              "          0,    0,    0,    0,    0,    0,    0,    0,    0,    0,    0,\n",
              "          0,    0,    0,    0,    0,    0,    0,    0,    0,    0,    0,\n",
              "          0,    0,    0,    0,    0,    0,    0,    0,    0,    0,    0,\n",
              "          0,    0,    0,    0,    0,    0,    0,    0,    0,    0,    0,\n",
              "          0,    0,    0,    0,    0,    0,    0,    0,    0,    0,    0,\n",
              "          0], dtype=int32)"
            ]
          },
          "metadata": {},
          "execution_count": 67
        }
      ]
    },
    {
      "cell_type": "code",
      "source": [
        "test = ['Elle étudie pour devenir médecin.', 'Le restaurant sert une nourriture délicieuse.']"
      ],
      "metadata": {
        "id": "7jc2IIy7AfpY"
      },
      "execution_count": 68,
      "outputs": []
    },
    {
      "cell_type": "code",
      "source": [
        "test = encode_sequences(frn_tokenizer, frn_length, test)\n",
        "# test = test.reshape((test.shape[0],test.shape[1]))"
      ],
      "metadata": {
        "id": "g-M1JYfp-mLc"
      },
      "execution_count": 69,
      "outputs": []
    },
    {
      "cell_type": "code",
      "source": [
        "test.shape"
      ],
      "metadata": {
        "id": "y8EvODUdBswB",
        "colab": {
          "base_uri": "https://localhost:8080/"
        },
        "outputId": "004dec49-3231-4617-aa0f-05920eb67442"
      },
      "execution_count": 70,
      "outputs": [
        {
          "output_type": "execute_result",
          "data": {
            "text/plain": [
              "(2, 111)"
            ]
          },
          "metadata": {},
          "execution_count": 70
        }
      ]
    },
    {
      "cell_type": "code",
      "source": [
        "test = test.reshape((test.shape[0],test.shape[1]))"
      ],
      "metadata": {
        "id": "a2HErguhyofc"
      },
      "execution_count": 71,
      "outputs": []
    },
    {
      "cell_type": "code",
      "source": [
        "test.shape"
      ],
      "metadata": {
        "id": "w2bzkLqoyqTh",
        "colab": {
          "base_uri": "https://localhost:8080/"
        },
        "outputId": "62f3146f-d267-43de-dd77-9d744efd6007"
      },
      "execution_count": 72,
      "outputs": [
        {
          "output_type": "execute_result",
          "data": {
            "text/plain": [
              "(2, 111)"
            ]
          },
          "metadata": {},
          "execution_count": 72
        }
      ]
    },
    {
      "cell_type": "code",
      "source": [
        "# print(logits_to_text(model.predict(test_x[:4][1], eng_tokenizer)))\n",
        "print(logits_to_text(model.predict(frn_test[:20])[10], eng_tokenizer))\n",
        "\n",
        "# print(logits_to_text(model.predict(test_x[:4])[3], eng_tokenizer))"
      ],
      "metadata": {
        "id": "FYTOpK0Gvw0V",
        "colab": {
          "base_uri": "https://localhost:8080/"
        },
        "outputId": "fd1ddb6a-2956-40f9-bbd5-bc53e967e82b"
      },
      "execution_count": 73,
      "outputs": [
        {
          "output_type": "stream",
          "name": "stdout",
          "text": [
            "1/1 [==============================] - 5s 5s/step\n",
            "they dislike peaches oranges and bananas <PAD> <PAD> <PAD> <PAD> <PAD> <PAD> <PAD> <PAD> <PAD> <PAD> <PAD> <PAD> <PAD> <PAD> <PAD> <PAD> <PAD> <PAD> <PAD> <PAD> <PAD> <PAD> <PAD> <PAD> <PAD> <PAD> <PAD> <PAD> <PAD> <PAD> <PAD> <PAD> <PAD> <PAD> <PAD> <PAD> <PAD> <PAD> <PAD> <PAD> <PAD> <PAD> <PAD> <PAD> <PAD> <PAD> <PAD> <PAD> <PAD> <PAD> <PAD> <PAD> <PAD> <PAD> <PAD> <PAD> <PAD> <PAD> <PAD> <PAD> <PAD> <PAD> <PAD> <PAD> <PAD> <PAD> <PAD> <PAD> <PAD> <PAD> <PAD> <PAD> <PAD> <PAD> <PAD> <PAD> <PAD> <PAD> <PAD> <PAD> <PAD> <PAD> <PAD> <PAD> <PAD> <PAD> <PAD> <PAD> <PAD> <PAD> <PAD> <PAD> <PAD> <PAD>\n"
          ]
        }
      ]
    },
    {
      "cell_type": "code",
      "source": [
        "eng_test1[10]"
      ],
      "metadata": {
        "id": "DIkzT6iLvORa",
        "colab": {
          "base_uri": "https://localhost:8080/",
          "height": 35
        },
        "outputId": "fe8717bc-cd70-4a8e-9cd7-f5d733580528"
      },
      "execution_count": 75,
      "outputs": [
        {
          "output_type": "execute_result",
          "data": {
            "text/plain": [
              "'they dislike peaches  oranges  and bananas '"
            ],
            "application/vnd.google.colaboratory.intrinsic+json": {
              "type": "string"
            }
          },
          "metadata": {},
          "execution_count": 75
        }
      ]
    },
    {
      "cell_type": "code",
      "source": [
        "frn_test1[10]"
      ],
      "metadata": {
        "id": "GTHJ8IWKvH0p",
        "colab": {
          "base_uri": "https://localhost:8080/",
          "height": 35
        },
        "outputId": "fb35c60c-0dc5-4d57-91f9-d783134d0adc"
      },
      "execution_count": 76,
      "outputs": [
        {
          "output_type": "execute_result",
          "data": {
            "text/plain": [
              "'ils naiment les pches  les oranges et les bananes '"
            ],
            "application/vnd.google.colaboratory.intrinsic+json": {
              "type": "string"
            }
          },
          "metadata": {},
          "execution_count": 76
        }
      ]
    },
    {
      "cell_type": "code",
      "source": [
        "test_x"
      ],
      "metadata": {
        "id": "uJYXXgpN9SVA",
        "colab": {
          "base_uri": "https://localhost:8080/"
        },
        "outputId": "cd2344ff-99ff-4595-8481-7fd5bc2ee296"
      },
      "execution_count": 77,
      "outputs": [
        {
          "output_type": "execute_result",
          "data": {
            "text/plain": [
              "array([[  3, 367, 128, ...,   0,   0,   0],\n",
              "       [ 21, 213,   9, ...,   0,   0,   0],\n",
              "       [ 10,  70,  66, ...,   0,   0,   0],\n",
              "       ...,\n",
              "       [ 10, 129,  13, ...,   0,   0,   0],\n",
              "       [  5,  47,   1, ...,   0,   0,   0],\n",
              "       [ 77,   1, 124, ...,   0,   0,   0]], dtype=int32)"
            ]
          },
          "metadata": {},
          "execution_count": 77
        }
      ]
    },
    {
      "cell_type": "code",
      "source": [
        "frn_test1[3]"
      ],
      "metadata": {
        "id": "WH_31McCwG7R",
        "colab": {
          "base_uri": "https://localhost:8080/",
          "height": 35
        },
        "outputId": "37e4e827-4a44-41df-81b6-b01dd8565901"
      },
      "execution_count": 78,
      "outputs": [
        {
          "output_type": "execute_result",
          "data": {
            "text/plain": [
              "'je veux prsenter mes excuses'"
            ],
            "application/vnd.google.colaboratory.intrinsic+json": {
              "type": "string"
            }
          },
          "metadata": {},
          "execution_count": 78
        }
      ]
    },
    {
      "cell_type": "code",
      "source": [
        "eng_test1[3]"
      ],
      "metadata": {
        "id": "pWvGUCpJv_j4",
        "colab": {
          "base_uri": "https://localhost:8080/",
          "height": 35
        },
        "outputId": "a2d07031-4f5a-4b93-8765-9402282526f3"
      },
      "execution_count": 79,
      "outputs": [
        {
          "output_type": "execute_result",
          "data": {
            "text/plain": [
              "'i want to apologize'"
            ],
            "application/vnd.google.colaboratory.intrinsic+json": {
              "type": "string"
            }
          },
          "metadata": {},
          "execution_count": 79
        }
      ]
    },
    {
      "cell_type": "code",
      "source": [
        "source_str, target_str = \"French\", \"English\"\n",
        "\n",
        "def word_for_id(integer, tokenizer):\n",
        "    # map an integer to a word\n",
        "    for word, index in tokenizer.word_index.items():\n",
        "        if index == integer:\n",
        "            return word\n",
        "    return None\n",
        " \n",
        "def predict_seq(model, tokenizer, source):\n",
        "    # generate target from a source sequence\n",
        "    prediction = model.predict(source, verbose=0)[0]\n",
        "    integers = [np.argmax(vector) for vector in prediction]\n",
        "    target = list()\n",
        "    for i in integers:\n",
        "        word = word_for_id(i, tokenizer)\n",
        "        if word is None:\n",
        "            break\n",
        "        target.append(word)\n",
        "    return ' '.join(target)\n",
        "\n",
        "def compare_prediction(model, tokenizer, sources, raw_src, raw_tar, limit=20):\n",
        "    # evaluate a model\n",
        "    actual, predicted = [], []\n",
        "    src = f'{source_str.upper()} (SOURCE)'\n",
        "    tgt = f'{target_str.upper()} (TARGET)'\n",
        "    pred = f'AUTOMATIC TRANSLATION IN {target_str.upper()}'\n",
        "    print(f'{src:30} {tgt:25} {pred}\\n')\n",
        "    \n",
        "    for i, source in enumerate(sources): # translate encoded source text\n",
        "        source = source.reshape((1, source.shape[0]))\n",
        "        translation = predict_seq(model, eng_tokenizer, source)\n",
        "        raw_src = frn_test1[i]\n",
        "        raw_tar = eng_test1[i]\n",
        "        \n",
        "        print(f'{raw_src:30} {raw_tar:25} {translation}')\n",
        "        if i >= limit: # Display some of the result\n",
        "            break\n",
        " \n",
        "# test on some training sequences\n",
        "print('### Result on the Training Set ###')\n",
        "# compare_prediction(model, tar_tokenizer, trainX, train)\n",
        "\n",
        "# test on some test sequences\n",
        "print('\\n\\n### Result on the Test Set ###')\n",
        "compare_prediction(model, eng_tokenizer, frn_test, frn_test1, eng_test1)"
      ],
      "metadata": {
        "id": "o6jPQuey2MFR",
        "colab": {
          "base_uri": "https://localhost:8080/"
        },
        "outputId": "e31cf325-c734-4f82-84b4-154da329596c"
      },
      "execution_count": 80,
      "outputs": [
        {
          "output_type": "stream",
          "name": "stdout",
          "text": [
            "### Result on the Training Set ###\n",
            "\n",
            "\n",
            "### Result on the Test Set ###\n",
            "FRENCH (SOURCE)                ENGLISH (TARGET)          AUTOMATIC TRANSLATION IN ENGLISH\n",
            "\n",
            "il semble quil y ait eu l une erreur there appears to have been a mistake there seems there be there a mistake\n",
            "vous avez de la chance de ne pas tre mortes youre lucky you didnt die youre lucky you didnt be\n",
            "je me suis cach derrire un rideau i hid myself behind a curtain i hid myself in a\n",
            "je veux prsenter mes excuses   i want to apologize       i want to apologize\n",
            "je peux avoir un clin          can i have a hug          i can give a hug\n",
            "france est gnralement sec en dcembre  mais il est pluvieux en juillet  france is usually dry during december  but it is rainy in july  france is usually dry during december but it is rainy in july\n",
            "seraistu dispose  partager ton code avec moi  would you be willing to share your code with me would you be willing to share your code with me\n",
            "je rentrerai tard ce soir      ill be back late tonight  ill get back tonight tonight\n",
            "pourquoi estu en prison        what are you in prison for why are you in prison\n",
            "jai demand une augmentation de salaire  mon patron i asked my boss for a pay increase i asked for for for my for\n",
            "ils naiment les pches  les oranges et les bananes  they dislike peaches  oranges  and bananas  they dislike peaches oranges and bananas\n",
            "votre fruit prfr moins est le pamplemousse  mais son moins prfr est la chaux  your least favorite fruit is the grapefruit  but her least favorite is the lime  your least favorite fruit is the grapefruit but her least favorite is the lime\n",
            "je suis trs attire par vous    im very drawn to you      im very very to you\n",
            "l inde est parfois merveilleux en avril  mais il est gnralement pluvieux  l automne  india is sometimes wonderful during april  but it is usually rainy in fall  india is sometimes wonderful during april but it is usually rainy in autumn\n",
            "tom veut tout de mme que vous laidiez tom still wants you to help him tom wants want to wants everything you\n",
            "peuxtu nous en dire plus       can you tell us more about it can you tell us about us\n",
            "celuici est beaucoup mieux     this one is much better   this much is much better\n",
            "tom sest gratt la tte          tom scratched his head    tom hurt his head\n",
            "on se demande comment cest possible one wonders how its possible we asking how its possible\n",
            "les tatsunis est parfois chaud pendant l automne  mais il est relaxant en mars  the united states is sometimes hot during autumn  but it is relaxing in march  the united states is sometimes warm during autumn but it is relaxing in march\n",
            "new jersey est doux au mois de novembre  new jersey is mild during november  new jersey is mild during november\n"
          ]
        }
      ]
    },
    {
      "cell_type": "code",
      "source": [
        "# It takes long to compute the BLEU Score\n",
        "\n",
        "def bleu_score(model, tokenizer, sources, raw_src, raw_tar):\n",
        "    # Get the bleu score of a model\n",
        "    actual, predicted = [], []\n",
        "    for i, source in enumerate(sources):\n",
        "        # translate encoded source text\n",
        "        source = source.reshape((1, source.shape[0]))\n",
        "        translation = predict_seq(model, eng_tokenizer, source)\n",
        "        raw_src = frn_test1[i]\n",
        "        raw_tar = eng_test1[i]\n",
        "        actual.append([raw_tar])\n",
        "        predicted.append(translation)\n",
        "        \n",
        "    bleu_dic = {}\n",
        "    bleu_dic['1-grams'] = corpus_bleu(actual, predicted, weights=(1.0, 0, 0, 0))\n",
        "    bleu_dic['1-2-grams'] = corpus_bleu(actual, predicted, weights=(0.5, 0.5, 0, 0))\n",
        "    bleu_dic['1-3-grams'] = corpus_bleu(actual, predicted, weights=(0.3, 0.3, 0.3, 0))\n",
        "    bleu_dic['1-4-grams'] = corpus_bleu(actual, predicted, weights=(0.25, 0.25, 0.25, 0.25))\n",
        "    \n",
        "    return bleu_dic\n",
        "\n",
        "# Compute the BLEU Score\n",
        "# bleu_train = bleu_score(model, eng_tokenizer, frn_train1, frn_t1)\n",
        "bleu_test = bleu_score(model, eng_tokenizer, frn_test, frn_test1, eng_test1)"
      ],
      "metadata": {
        "id": "9i9itQwjtYCr"
      },
      "execution_count": 62,
      "outputs": []
    },
    {
      "cell_type": "code",
      "source": [
        "bleu_test"
      ],
      "metadata": {
        "colab": {
          "base_uri": "https://localhost:8080/"
        },
        "id": "rrcYiAm_xIqT",
        "outputId": "028935aa-51d9-4a86-8d6e-793e6ef0cfa4"
      },
      "execution_count": 63,
      "outputs": [
        {
          "output_type": "execute_result",
          "data": {
            "text/plain": [
              "{'1-grams': 0.8787440241129639,\n",
              " '1-2-grams': 0.8546182120974017,\n",
              " '1-3-grams': 0.8449712336285509,\n",
              " '1-4-grams': 0.8178677566126499}"
            ]
          },
          "metadata": {},
          "execution_count": 63
        }
      ]
    },
    {
      "cell_type": "code",
      "source": [
        "plt.bar(x = bleu_test.keys(), height = bleu_test.values())\n",
        "plt.title(\"BLEU Score with the test set\")\n",
        "plt.ylim((0,1))\n",
        "plt.show()"
      ],
      "metadata": {
        "id": "6Zlsw2vQw4JI"
      },
      "execution_count": null,
      "outputs": []
    },
    {
      "cell_type": "code",
      "source": [
        "import os \n",
        "\n",
        "# Set your working directory to a folder in your Google Drive. This way, if your notebook times out,\n",
        "# your files will be saved in your Google Drive!\n",
        "\n",
        "# the base Google Drive directory\n",
        "root_dir = \"/content/drive/My Drive/\"\n",
        "\n",
        "# choose where you want your project files to be saved\n",
        "project_folder = \"Colab Notebooks/NLP_Final_Project/\"\n",
        "\n",
        "def create_and_set_working_directory(project_folder):\n",
        "  # check if your project folder exists. if not, it will be created.\n",
        "  if os.path.isdir(root_dir + project_folder) == False:\n",
        "    os.mkdir(root_dir + project_folder)\n",
        "    print(root_dir + project_folder + ' did not exist but was created.')\n",
        "\n",
        "  # change the OS to use your project folder as the working directory\n",
        "  os.chdir(root_dir + project_folder)\n",
        "\n",
        "  # create a test file to make sure it shows up in the right place\n",
        "  !touch 'new_file_in_working_directory.txt'\n",
        "  print('\\nYour working directory was changed to ' + root_dir + project_folder + \\\n",
        "        \"\\n\\nAn empty text file was created there. You can also run !pwd to confirm the current working directory.\" )\n",
        "\n",
        "create_and_set_working_directory(project_folder)"
      ],
      "metadata": {
        "id": "ezNi7JpSwgI2"
      },
      "execution_count": null,
      "outputs": []
    },
    {
      "cell_type": "code",
      "source": [
        "import os\n",
        "\n",
        "# Set your working directory to a folder in your Google Drive. This way, if your notebook times out,\n",
        "# your files will be saved in your Google Drive!\n",
        "\n",
        "# the base Google Drive directory\n",
        "root_dir = \"/content/drive/My Drive/\"\n",
        "\n",
        "# choose where you want your project files to be saved\n",
        "project_folder = \"Colab Notebooks/NLP_Final_Project/\"\n",
        "\n",
        "def create_and_set_working_directory(project_folder):\n",
        "  # check if your project folder exists. if not, it will be created.\n",
        "  if os.path.isdir(root_dir + project_folder) == False:\n",
        "    os.mkdir(root_dir + project_folder)\n",
        "    print(root_dir + project_folder + ' did not exist but was created.')\n",
        "\n",
        "  # change the OS to use your project folder as the working directory\n",
        "  os.chdir(root_dir + project_folder)\n",
        "\n",
        "  # create a test file to make sure it shows up in the right place\n",
        "  !touch 'new_file_in_working_directory.txt'\n",
        "  print('\\nYour working directory was changed to ' + root_dir + project_folder + \\\n",
        "        \"\\n\\nAn empty text file was created there. You can also run !pwd to confirm the current working directory.\" )\n",
        "\n",
        "create_and_set_working_directory(project_folder)\n"
      ],
      "metadata": {
        "id": "wYKex5-kmoE4"
      },
      "execution_count": null,
      "outputs": []
    },
    {
      "cell_type": "code",
      "source": [],
      "metadata": {
        "id": "F8fwfzXUmpyP"
      },
      "execution_count": null,
      "outputs": []
    }
  ]
}